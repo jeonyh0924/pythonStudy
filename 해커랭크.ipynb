{
 "cells": [
  {
   "cell_type": "code",
   "execution_count": 1,
   "metadata": {},
   "outputs": [],
   "source": [
    "person = {'name': 'John', 'age': 25, 'gender': 'man'}"
   ]
  },
  {
   "cell_type": "code",
   "execution_count": 2,
   "metadata": {},
   "outputs": [
    {
     "name": "stdout",
     "output_type": "stream",
     "text": [
      "Point(x=123, y=987)\n",
      "1110\n",
      "123 987\n",
      "Point(x=123, y=987)\n"
     ]
    }
   ],
   "source": [
    "from collections import namedtuple\n",
    "\n",
    "Point = namedtuple('Point', ['x', 'y'])\n",
    "p = Point(123, y=987)\n",
    "print(p)\n",
    "\n",
    "r = p[0] + p[1]\n",
    "print(r)\n",
    "\n",
    "x, y = p\n",
    "print(x, y)\n",
    "\n",
    "z = p\n",
    "print(z)"
   ]
  },
  {
   "cell_type": "code",
   "execution_count": 11,
   "metadata": {},
   "outputs": [
    {
     "name": "stdout",
     "output_type": "stream",
     "text": [
      "deque(['h', 'e', 'l', 'l', 'o', 'w', ' ', 'w', 'o', 'r', 'l', 'd', '!'])\n",
      "! deque(['h', 'e', 'l', 'l', 'o', 'w', ' ', 'w', 'o', 'r', 'l', 'd'])\n",
      "h deque(['e', 'l', 'l', 'o', 'w', ' ', 'w', 'o', 'r', 'l', 'd'])\n",
      "deque(['e', 'l', 'l', 'o', 'w', ' ', 'w', 'o', 'r', 'l', 'd', 'A'])\n",
      "deque(['B', 'e', 'l', 'l', 'o', 'w', ' ', 'w', 'o', 'r', 'l', 'd', 'A'])\n",
      "<class 'collections.deque'>\n"
     ]
    }
   ],
   "source": [
    "\n",
    "from collections import deque\n",
    "\n",
    "d = deque('hellow world!')\n",
    "print(d)\n",
    "\n",
    "r = d.pop()\n",
    "print(r, d)\n",
    "\n",
    "r = d.popleft()   # List.pop(0, A) 와 동일하나 O(1) 보장\n",
    "print(r, d)\n",
    "\n",
    "d.append('A')\n",
    "print(d)\n",
    "\n",
    "d.appendleft('B') # List.insert(0, A) 와 동일하나 O(1) 보장\n",
    "print(d)\n",
    "print(type(d))"
   ]
  },
  {
   "cell_type": "markdown",
   "metadata": {},
   "source": [
    "# String Formatting\n"
   ]
  },
  {
   "cell_type": "code",
   "execution_count": 1,
   "metadata": {},
   "outputs": [
    {
     "name": "stdout",
     "output_type": "stream",
     "text": [
      "    1     1     1     1\n",
      "    2     2     2    10\n",
      "    3     3     3    11\n",
      "    4     4     4   100\n",
      "    5     5     5   101\n",
      "    6     6     6   110\n",
      "    7     7     7   111\n",
      "    8    10     8  1000\n",
      "    9    11     9  1001\n",
      "   10    12     A  1010\n",
      "   11    13     B  1011\n",
      "   12    14     C  1100\n",
      "   13    15     D  1101\n",
      "   14    16     E  1110\n",
      "   15    17     F  1111\n",
      "   16    20    10 10000\n",
      "   17    21    11 10001\n"
     ]
    }
   ],
   "source": [
    "n = 17\n",
    "a = format(17, 'b')\n",
    "max_len = (len(a))\n",
    "for i in range(1, n+1):\n",
    "    o = format(i, 'o')  #8\n",
    "    h = format(i, 'x')  #16\n",
    "    b = format(i, 'b')  #2\n",
    "    print(str(i).rjust(max_len), end=' ')\n",
    "    print(o.rjust(max_len), end=' ')\n",
    "    print(h.rjust(max_len).upper(), end=' ')\n",
    "    print(b.rjust(max_len), end='\\n')"
   ]
  },
  {
   "cell_type": "markdown",
   "metadata": {},
   "source": [
    "# 이메일 인증"
   ]
  },
  {
   "cell_type": "code",
   "execution_count": 39,
   "metadata": {},
   "outputs": [],
   "source": [
    "# 문자, 숫자, 언더바, 대시 만 포함"
   ]
  },
  {
   "cell_type": "code",
   "execution_count": null,
   "metadata": {},
   "outputs": [],
   "source": []
  },
  {
   "cell_type": "code",
   "execution_count": 106,
   "metadata": {},
   "outputs": [],
   "source": [
    "def fun(s):\n",
    "    if not 0<s.count('@')<2:\n",
    "        return False\n",
    "    username, rest = s.split('@')\n",
    "    if username.isalnum() or '-' in username or '_' in username:\n",
    "        pass\n",
    "    else:\n",
    "        return False\n",
    "    if not '.' in rest:\n",
    "        return False\n",
    "    website, extensions = rest.split('.')\n",
    "    \n",
    "    if username and website and extensions:\n",
    "        pass\n",
    "    else:\n",
    "        return False\n",
    "    if not website.isalnum():\n",
    "        return False\n",
    "    if not extensions.isalnum():\n",
    "        return False\n",
    "    if not 1<len(extensions)<=3:\n",
    "        return False\n",
    "    return True"
   ]
  }
 ],
 "metadata": {
  "kernelspec": {
   "display_name": "Python 3",
   "language": "python",
   "name": "python3"
  },
  "language_info": {
   "codemirror_mode": {
    "name": "ipython",
    "version": 3
   },
   "file_extension": ".py",
   "mimetype": "text/x-python",
   "name": "python",
   "nbconvert_exporter": "python",
   "pygments_lexer": "ipython3",
   "version": "3.7.4"
  }
 },
 "nbformat": 4,
 "nbformat_minor": 4
}
