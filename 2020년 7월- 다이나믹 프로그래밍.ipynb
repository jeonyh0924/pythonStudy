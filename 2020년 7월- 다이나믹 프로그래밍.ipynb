{
 "cells": [
  {
   "cell_type": "markdown",
   "metadata": {},
   "source": [
    "https://www.acmicpc.net/problem/1904\n",
    "\n",
    "백준 1904번 문제 "
   ]
  },
  {
   "cell_type": "markdown",
   "metadata": {},
   "source": [
    "점화식을 세워보면 그런 사실을 이끌어낼 수 있습니다.\n",
    "\n",
    "현재 길이가 1, 2인 타일밖에 안가지고 있습니다.\n",
    "\n",
    "\n",
    "이 때 f(n)을 길이가 n인 타일의 개수라고 정의를 하고 f(n)이 어떻게 계산되나 생각을 해봅시다.\n",
    "\n",
    "f(n)을 만드는 방법은 총 두가지가 있습니다.\n",
    "\n",
    "1. f(n - 1)에서 길이가 1인 타일을 붙여서 만든다.\n",
    "\n",
    "2. f(n - 2)에서 길이가 2인 타일을 붙여서 만든다.\n",
    "\n",
    "\n",
    "\n",
    "따라서 f(n)의 경우의 수는 f(n - 1) + f(n - 2)가 됩니다.\n",
    "\n",
    "그렇기 때문에 이 문제는 피보나치랑 같은 문제가 되는겁니다."
   ]
  },
  {
   "cell_type": "markdown",
   "metadata": {},
   "source": [
    "정확히 말하면 Dynamic Programming(동적계획법)이라고 하는게 맞겠네요.\n",
    "\n",
    "흔히들 줄여서 dp라고 얘기합니다.\n",
    "\n",
    "\n",
    "\n",
    "dp가 뭔지 간단히 얘기하자면 한 문제를 작은 부분문제들로 쪼개 풀어야 하고\n",
    "\n",
    "이 작은 부분문제들이 여러번 계산해야 하는 상황이라면 이를 테이블(Array등)에 기록해 중복되는 계산을 하지 않는 기법을 의미합니다.\n",
    "\n",
    "\n",
    "\n",
    "사실 이 문제는 dp의 입문중의 입문에 속하는 문제입니다. \n",
    "\n",
    "프로그래밍으로 치자면 \"hello world\"를 출력하라 정도가 되겠네요.\n",
    "\n",
    "인터넷에서 한번 dp를 검색한 뒤 학습해 보고 BOJ에서 여러 문제들을 풀어보세요.\n",
    "\n",
    "재미있는 경험이 될 것입니다."
   ]
  },
  {
   "cell_type": "code",
   "execution_count": 14,
   "metadata": {},
   "outputs": [
    {
     "name": "stdout",
     "output_type": "stream",
     "text": [
      "5\n",
      "8\n"
     ]
    }
   ],
   "source": [
    "limit = int(input())\n",
    "\n",
    "dp = [0]*1000001\n",
    "dp[1]=1\n",
    "dp[2] = 2\n",
    "\n",
    "for i in range(3, limit+1):\n",
    "    dp[i] = (dp[i-2] + dp[i-1]) % 15746\n",
    "print(dp[limit])"
   ]
  },
  {
   "cell_type": "markdown",
   "metadata": {},
   "source": [
    "# 피보나치 수 "
   ]
  },
  {
   "cell_type": "code",
   "execution_count": 2,
   "metadata": {},
   "outputs": [
    {
     "name": "stdout",
     "output_type": "stream",
     "text": [
      "10\n"
     ]
    }
   ],
   "source": [
    "limit = int(input())"
   ]
  },
  {
   "cell_type": "code",
   "execution_count": 3,
   "metadata": {},
   "outputs": [],
   "source": [
    "result = [0, 1]"
   ]
  },
  {
   "cell_type": "code",
   "execution_count": 4,
   "metadata": {},
   "outputs": [],
   "source": [
    "first_var = 0\n",
    "second_var = 1"
   ]
  },
  {
   "cell_type": "code",
   "execution_count": 5,
   "metadata": {},
   "outputs": [],
   "source": [
    "for i in range(10):\n",
    "    third_var = first_var + second_var\n",
    "    result.append(third_var)\n",
    "    first_var = second_var\n",
    "    second_var = third_var "
   ]
  },
  {
   "cell_type": "code",
   "execution_count": 8,
   "metadata": {},
   "outputs": [
    {
     "data": {
      "text/plain": [
       "[0, 1, 1, 2, 3, 5, 8, 13, 21, 34, 55, 89]"
      ]
     },
     "execution_count": 8,
     "metadata": {},
     "output_type": "execute_result"
    }
   ],
   "source": [
    "result"
   ]
  },
  {
   "cell_type": "code",
   "execution_count": 9,
   "metadata": {},
   "outputs": [
    {
     "data": {
      "text/plain": [
       "55"
      ]
     },
     "execution_count": 9,
     "metadata": {},
     "output_type": "execute_result"
    }
   ],
   "source": [
    "result[10]"
   ]
  },
  {
   "cell_type": "markdown",
   "metadata": {},
   "source": [
    "11053번 문제\n",
    "https://www.acmicpc.net/problem/11053"
   ]
  },
  {
   "cell_type": "code",
   "execution_count": 27,
   "metadata": {},
   "outputs": [
    {
     "name": "stdout",
     "output_type": "stream",
     "text": [
      "6\n",
      "10 20 10 30 20 50\n",
      "4\n"
     ]
    }
   ],
   "source": [
    "n = int(input())\n",
    "array = list(map(int, input().split()))\n",
    "\n",
    "dp = [1] *n\n",
    "\n",
    "for i in range(1, n):\n",
    "    for j in range(0, i):\n",
    "        if array[j] < array[i]:\n",
    "            dp[i] = max(dp[i], dp[j]+1)\n",
    "\n",
    "print(max(dp))"
   ]
  },
  {
   "cell_type": "code",
   "execution_count": null,
   "metadata": {},
   "outputs": [],
   "source": []
  },
  {
   "cell_type": "markdown",
   "metadata": {},
   "source": [
    "### 15988번 1,2,3 더하기 3 \n",
    "\n",
    "- https://www.acmicpc.net/problem/15988"
   ]
  },
  {
   "cell_type": "markdown",
   "metadata": {},
   "source": [
    "- 합을 나타낼 때 수를 한 개 이상 사용한다.\n",
    "- 정수 N 이 주어졌을 때, n을 1, 2, 3의 합으로 나타내는 방법의 수 구하기."
   ]
  },
  {
   "cell_type": "code",
   "execution_count": 1,
   "metadata": {},
   "outputs": [
    {
     "name": "stdout",
     "output_type": "stream",
     "text": [
      "3\n"
     ]
    }
   ],
   "source": [
    "limit = int(input())"
   ]
  },
  {
   "cell_type": "code",
   "execution_count": 12,
   "metadata": {},
   "outputs": [
    {
     "name": "stdout",
     "output_type": "stream",
     "text": [
      "10\n"
     ]
    }
   ],
   "source": [
    "data = int(input())"
   ]
  },
  {
   "cell_type": "code",
   "execution_count": 13,
   "metadata": {},
   "outputs": [],
   "source": [
    "dp = [0]* 100000"
   ]
  },
  {
   "cell_type": "code",
   "execution_count": 14,
   "metadata": {},
   "outputs": [],
   "source": [
    "dp[1]=1\n",
    "dp[2]=2\n",
    "dp[3]=4"
   ]
  },
  {
   "cell_type": "code",
   "execution_count": 15,
   "metadata": {},
   "outputs": [],
   "source": [
    "for i in range(4, data+1):\n",
    "    dp[i] = ((dp[i-1])+(dp[i-2])+dp[i-3])\n",
    "    "
   ]
  },
  {
   "cell_type": "code",
   "execution_count": 16,
   "metadata": {},
   "outputs": [
    {
     "data": {
      "text/plain": [
       "274"
      ]
     },
     "execution_count": 16,
     "metadata": {},
     "output_type": "execute_result"
    }
   ],
   "source": [
    "dp[data]"
   ]
  },
  {
   "cell_type": "code",
   "execution_count": 59,
   "metadata": {},
   "outputs": [
    {
     "name": "stdout",
     "output_type": "stream",
     "text": [
      "3\n",
      "4\n",
      "7\n",
      "10\n",
      "274\n",
      "5\n",
      "13\n"
     ]
    }
   ],
   "source": [
    "dp = [0]*1_000_000\n",
    "result=[]\n",
    "dp[1]=1\n",
    "dp[2]=2\n",
    "dp[3]=4\n",
    "data = (int(input()))\n",
    "for i in range(data):\n",
    "    for i in range(4, limit+1):\n",
    "        dp[i]=(dp[i-1]+dp[i-2]+dp[i-3]%1_000_000_009)\n",
    "\n",
    "for _ in range(data):\n",
    "    print(dp[int(input())])"
   ]
  },
  {
   "cell_type": "code",
   "execution_count": 46,
   "metadata": {},
   "outputs": [
    {
     "name": "stdout",
     "output_type": "stream",
     "text": [
      "4\n",
      "5\n",
      "6\n",
      "7\n"
     ]
    }
   ],
   "source": [
    "d = [0]*1000001\n",
    "d[0]=1;d[1]=1;d[2]=2\n",
    "for i in range(3,1000001):\n",
    "    if d[i]==0:\n",
    "        d[i] = d[i-1]+d[i-2]+d[i-3]\n",
    "        d[i] %= 1000000009\n",
    "for _ in range(int(input())):\n",
    "    n = int(input())\n",
    "    print(d[n])"
   ]
  },
  {
   "cell_type": "code",
   "execution_count": 33,
   "metadata": {},
   "outputs": [
    {
     "name": "stdout",
     "output_type": "stream",
     "text": [
      "7\n",
      "44\n"
     ]
    }
   ],
   "source": [
    "dp = [0]*10000\n",
    "dp[1]=1\n",
    "dp[2]=2\n",
    "dp[3]=4\n",
    "limit = int(input())\n",
    "for i in range(4, limit+1):\n",
    "    dp[i]=((dp[i-1])+(dp[i-2])+(dp[i-3]))\n",
    "print(dp[limit])"
   ]
  },
  {
   "cell_type": "markdown",
   "metadata": {},
   "source": [
    "### 9095 문제\n",
    "- https://www.acmicpc.net/problem/9095\n"
   ]
  },
  {
   "cell_type": "code",
   "execution_count": 11,
   "metadata": {},
   "outputs": [
    {
     "name": "stdout",
     "output_type": "stream",
     "text": [
      "3\n",
      "4\n",
      "7\n",
      "7\n",
      "44\n",
      "10\n",
      "274\n"
     ]
    }
   ],
   "source": [
    "dp = [0] * 12\n",
    "\n",
    "dp[1] = 1\n",
    "dp[2] = 2\n",
    "dp[3] = 4\n",
    "\n",
    "for i in range(4, 12):\n",
    "    dp[i] = dp[i-1]+dp[i-2]+dp[i-3]\n",
    "\n",
    "\n",
    "for _ in range(int(input())):\n",
    "    limit = int(input())\n",
    "    print(dp[limit])"
   ]
  },
  {
   "cell_type": "markdown",
   "metadata": {},
   "source": [
    "### 1463 번 문제\n",
    "- https://www.acmicpc.net/problem/1463"
   ]
  },
  {
   "cell_type": "code",
   "execution_count": 50,
   "metadata": {},
   "outputs": [
    {
     "name": "stdout",
     "output_type": "stream",
     "text": [
      "10\n"
     ]
    }
   ],
   "source": [
    "data = int(input())"
   ]
  },
  {
   "cell_type": "code",
   "execution_count": 60,
   "metadata": {},
   "outputs": [],
   "source": [
    "dp = [0]*1000000\n",
    "\n",
    "dp[1]=1\n",
    "dp[2]=1\n",
    "dp[3]=1\n",
    "\n",
    "data = int(input())\n",
    "for i in range(4, data+1):\n",
    "    result = []\n",
    "    if i//2:\n",
    "        result.append(dp[i//2])\n",
    "    if i//3:\n",
    "        result.append(dp[i//3])\n",
    "    result.append(dp[i-1])\n",
    "    dp[i] = min(result)+1\n",
    "    "
   ]
  },
  {
   "cell_type": "code",
   "execution_count": 97,
   "metadata": {},
   "outputs": [
    {
     "name": "stdout",
     "output_type": "stream",
     "text": [
      "10\n",
      "i --i/2 4 result [1]\n",
      "i --1 4 result [1, 1]\n",
      "i --1 5 result [2]\n",
      "i --i/2 6 result [1]\n",
      "i --i/3 6 result [1, 1]\n",
      "i --1 6 result [1, 1, 3]\n",
      "i --1 7 result [2]\n",
      "i --i/2 8 result [2]\n",
      "i --1 8 result [2, 3]\n",
      "i --i/3 9 result [1]\n",
      "i --1 9 result [1, 3]\n",
      "i --i/2 10 result [3]\n",
      "i --1 10 result [3, 2]\n",
      "3\n"
     ]
    }
   ],
   "source": [
    "dp = [0]*1000\n",
    "\n",
    "dp[1]=1\n",
    "dp[2]=1\n",
    "dp[3]=1\n",
    "\n",
    "data = int(input())\n",
    "for i in range(4, data+1):\n",
    "    result = []\n",
    "    if i%2==0:\n",
    "        result.append(dp[int(i/2)])\n",
    "        print('i --i/2',i, 'result', result)\n",
    "    if i%3==0:\n",
    "        result.append(dp[int(i/3)])\n",
    "        print('i --i/3',i, 'result', result)\n",
    "    result.append(dp[int(i-1)])\n",
    "    print('i --1',i, 'result', result)\n",
    "    dp[i] = min(result)+1\n",
    "    \n",
    "print(dp[data])\n"
   ]
  },
  {
   "cell_type": "code",
   "execution_count": 108,
   "metadata": {},
   "outputs": [
    {
     "name": "stdout",
     "output_type": "stream",
     "text": [
      "5\n",
      "3\n"
     ]
    }
   ],
   "source": [
    "dp = [0]*100000\n",
    "\n",
    "dp[1]=1\n",
    "dp[2]=1\n",
    "dp[3]=1\n",
    "\n",
    "data = int(input())\n",
    "for i in range(4, data+1):\n",
    "    result = []\n",
    "    if i%2==0:\n",
    "        result.append(dp[i//2])\n",
    "\n",
    "    if i%3==0:\n",
    "        result.append(dp[i//3])\n",
    "\n",
    "    result.append(dp[i-1])\n",
    "\n",
    "    dp[i] = min(result)+1\n",
    "    \n",
    "print(dp[data])\n"
   ]
  },
  {
   "cell_type": "code",
   "execution_count": 109,
   "metadata": {},
   "outputs": [
    {
     "name": "stdout",
     "output_type": "stream",
     "text": [
      "10\n",
      "3\n"
     ]
    }
   ],
   "source": [
    "testcase=int(input())\n",
    " \n",
    "dp=[ 0 for _ in range(testcase+2) ]\n",
    "dp[2]=1\n",
    " \n",
    "for i in range(2, len(dp)):\n",
    " \n",
    "    dp[i]=dp[i-1]+1\n",
    " \n",
    "    if i%3==0:\n",
    "        if dp[i]> dp[int(i/3)]+1:\n",
    "            dp[i]=dp[int(i/3)]+1\n",
    "    if i%2==0:\n",
    "        if dp[i]> dp[int(i/2)]+1:\n",
    "            dp[i] =dp[int(i/2)]+1\n",
    "print(dp[testcase])\n"
   ]
  },
  {
   "cell_type": "code",
   "execution_count": null,
   "metadata": {},
   "outputs": [],
   "source": []
  }
 ],
 "metadata": {
  "kernelspec": {
   "display_name": "Python 3",
   "language": "python",
   "name": "python3"
  },
  "language_info": {
   "codemirror_mode": {
    "name": "ipython",
    "version": 3
   },
   "file_extension": ".py",
   "mimetype": "text/x-python",
   "name": "python",
   "nbconvert_exporter": "python",
   "pygments_lexer": "ipython3",
   "version": "3.8.3"
  }
 },
 "nbformat": 4,
 "nbformat_minor": 4
}
