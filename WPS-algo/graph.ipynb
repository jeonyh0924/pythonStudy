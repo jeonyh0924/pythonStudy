{
 "cells": [
  {
   "cell_type": "code",
   "execution_count": 7,
   "metadata": {},
   "outputs": [],
   "source": [
    "adj_list = [[2,1 ], [3, 0], [3, 0], [9, 8, 2, 1], [5], [7, 6, 4], [7, 5], [6, 5], [3], [3]]\n",
    "\n",
    "N= len(adj_list)\n",
    "\n",
    "visited = [False] * N\n",
    "\n",
    "def dfs(v):\n",
    "    visited[v] = True\n",
    "    print(v, ' ', end='')\n",
    "    for w in adj_list[v]:\n",
    "        if not visited[w]:\n",
    "            dfs(w)\n",
    "print('DFS 방문 순서')\n",
    "for i in range(N):\n",
    "    if not visited[i]:\n",
    "        dfs(i)"
   ]
  },
  {
   "cell_type": "code",
   "execution_count": null,
   "metadata": {},
   "outputs": [],
   "source": []
  },
  {
   "cell_type": "code",
   "execution_count": null,
   "metadata": {},
   "outputs": [],
   "source": []
  },
  {
   "cell_type": "code",
   "execution_count": null,
   "metadata": {},
   "outputs": [],
   "source": []
  },
  {
   "cell_type": "code",
   "execution_count": null,
   "metadata": {},
   "outputs": [],
   "source": []
  },
  {
   "cell_type": "markdown",
   "metadata": {},
   "source": [
    "# dfs"
   ]
  },
  {
   "cell_type": "code",
   "execution_count": 49,
   "metadata": {},
   "outputs": [],
   "source": [
    "adj_list = [[2,1 ], [3, 0], [3, 0], [9, 8, 2, 1], [5], [7, 6, 4], [7, 5], [6, 5], [3], [3]]"
   ]
  },
  {
   "cell_type": "code",
   "execution_count": 50,
   "metadata": {},
   "outputs": [],
   "source": [
    "n = len(adj_list)"
   ]
  },
  {
   "cell_type": "code",
   "execution_count": 51,
   "metadata": {},
   "outputs": [],
   "source": [
    "visited = [False]*n"
   ]
  },
  {
   "cell_type": "code",
   "execution_count": 52,
   "metadata": {},
   "outputs": [],
   "source": [
    "def dfs(index):\n",
    "    print(index,' ', end='')\n",
    "    visited[index] =True\n",
    "    for value in adj_list[index]:\n",
    "        if visited[value] is False:\n",
    "            dfs(value)"
   ]
  },
  {
   "cell_type": "code",
   "execution_count": 53,
   "metadata": {},
   "outputs": [
    {
     "name": "stdout",
     "output_type": "stream",
     "text": [
      "0  2  3  9  8  1  4  5  7  6  "
     ]
    }
   ],
   "source": [
    "for i in range(n):\n",
    "    if visited[i] is False:\n",
    "        dfs(i)"
   ]
  },
  {
   "cell_type": "markdown",
   "metadata": {},
   "source": [
    "# BFS"
   ]
  },
  {
   "cell_type": "code",
   "execution_count": 91,
   "metadata": {},
   "outputs": [
    {
     "name": "stdout",
     "output_type": "stream",
     "text": [
      "BFS 방문 순서\n",
      "0  2  1  3  9  8  4  5  7  6  "
     ]
    }
   ],
   "source": [
    "adj_list = [\n",
    "    [2, 1], [3, 0], [3, 0], \n",
    "    [9, 8, 2, 1], [5], [7, 6, 4], \n",
    "    [7, 5], [6, 5], [3], [3]\n",
    "]\n",
    "\n",
    "n = len(adj_list)\n",
    "\n",
    "visited = [False]*n\n",
    "\n",
    "que = []\n",
    "\n",
    "def bfs(i):\n",
    "    visited[i] = True\n",
    "    print(i, ' ', end='')\n",
    "    for i in adj_list[i]:\n",
    "        que.append(i)\n",
    "    for i in que:\n",
    "        if visited[i] is False:\n",
    "            bfs(i)\n",
    "    \n",
    "\n",
    "print('BFS 방문 순서')\n",
    "\n",
    "for i in range(n):\n",
    "    if visited[i] is False:\n",
    "        bfs(i)"
   ]
  },
  {
   "cell_type": "markdown",
   "metadata": {},
   "source": [
    "# Dijkstra "
   ]
  },
  {
   "cell_type": "code",
   "execution_count": 103,
   "metadata": {},
   "outputs": [
    {
     "name": "stdout",
     "output_type": "stream",
     "text": [
      "정점 0 으로부터 최단거리:\n",
      "[0, 0] = 0\n",
      "[0, 1] = 1\n",
      "[0, 2] = 5\n",
      "[0, 3] = 2\n",
      "[0, 4] = 2\n",
      "[0, 5] = 6\n",
      "[0, 6] = 4\n",
      "[0, 7] = 5\n",
      "\n",
      " 정점  0 으로부터의 최단 경로\n",
      "0\n",
      "1 <- 0\n",
      "2 <- 1 <- 0\n",
      "3 <- 0\n",
      "4 <- 1 <- 0\n",
      "5 <- 2 <- 1 <- 0\n",
      "6 <- 4 <- 1 <- 0\n",
      "7 <- 6 <- 4 <- 1 <- 0\n"
     ]
    }
   ],
   "source": [
    "import sys\n",
    "\n",
    "n = 8\n",
    "s = 0\n",
    "\n",
    "g = [None]* n\n",
    "\n",
    "g[0] = [(1, 1), (3, 2)]\n",
    "g[1] = [(0, 1), (2, 4), (3, 3), (4, 1), (5, 6)]\n",
    "g[2] = [(1, 4), (5, 1), (6, 1), (7, 2)]\n",
    "g[3] = [(0, 2), (1, 3), (4, 5)]\n",
    "g[4] = [(1, 1), (3, 5), (6, 2)]\n",
    "g[5] = [(1, 6), (2, 1), (7, 5)]\n",
    "g[6] = [(2, 1), (4, 2), (7, 1)]\n",
    "g[7] = [(2, 2), (5, 9), (6, 1)]\n",
    "\n",
    "visited = [False]*n\n",
    "\n",
    "d= [sys.maxsize]*n\n",
    "\n",
    "d[s] = 0\n",
    "\n",
    "previous = [None]*n\n",
    "previous[s] = s\n",
    "\n",
    "for k in range(n):\n",
    "    m =-1\n",
    "    min_value = sys.maxsize\n",
    "    for j in range(n):\n",
    "        if not visited[j] and d[j]<min_value:\n",
    "            min_value = d[j]\n",
    "            m=j\n",
    "    visited[m] = True\n",
    "    for w, wt in list(g[m]):\n",
    "        if not visited[w]:\n",
    "            if d[m]+wt < d[w]:\n",
    "                d[w] = d[m] +wt\n",
    "                previous[w] =m \n",
    "    \n",
    "print('정점', s, '으로부터 최단거리:')\n",
    "\n",
    "for i in range(n):\n",
    "    if d[i] == sys.maxsize:\n",
    "        print(s, '와 ', i, '사이에 경로 없음')\n",
    "    else:\n",
    "        print(f'[{s}, {i}]','=', d[i])\n",
    "\n",
    "print('\\n 정점 ', s, '으로부터의 최단 경로')\n",
    "for i in range(n):\n",
    "    back = i\n",
    "    print(back, end='')\n",
    "    \n",
    "    while back != s:\n",
    "        print(' <-', previous[back], end='')\n",
    "        back = previous[back]\n",
    "    \n",
    "    print()"
   ]
  },
  {
   "cell_type": "code",
   "execution_count": 104,
   "metadata": {},
   "outputs": [],
   "source": [
    "import sys\n",
    "\n",
    "n = 8\n",
    "s = 0\n",
    "\n",
    "g = [None]* n\n",
    "\n",
    "g[0] = [(1, 1), (3, 2)]\n",
    "g[1] = [(0, 1), (2, 4), (3, 3), (4, 1), (5, 6)]\n",
    "g[2] = [(1, 4), (5, 1), (6, 1), (7, 2)]\n",
    "g[3] = [(0, 2), (1, 3), (4, 5)]\n",
    "g[4] = [(1, 1), (3, 5), (6, 2)]\n",
    "g[5] = [(1, 6), (2, 1), (7, 5)]\n",
    "g[6] = [(2, 1), (4, 2), (7, 1)]\n",
    "g[7] = [(2, 2), (5, 9), (6, 1)]\n",
    "\n",
    "visited = [False]*n\n",
    "\n",
    "d= [sys.maxsize]*n\n",
    "\n",
    "d[s] = 0\n",
    "\n",
    "previous = [None]*n\n",
    "previous[s] = s\n"
   ]
  },
  {
   "cell_type": "code",
   "execution_count": 106,
   "metadata": {},
   "outputs": [
    {
     "data": {
      "text/plain": [
       "0"
      ]
     },
     "execution_count": 106,
     "metadata": {},
     "output_type": "execute_result"
    }
   ],
   "source": [
    "s"
   ]
  },
  {
   "cell_type": "code",
   "execution_count": null,
   "metadata": {},
   "outputs": [],
   "source": []
  }
 ],
 "metadata": {
  "kernelspec": {
   "display_name": "Python 3",
   "language": "python",
   "name": "python3"
  },
  "language_info": {
   "codemirror_mode": {
    "name": "ipython",
    "version": 3
   },
   "file_extension": ".py",
   "mimetype": "text/x-python",
   "name": "python",
   "nbconvert_exporter": "python",
   "pygments_lexer": "ipython3",
   "version": "3.8.3"
  }
 },
 "nbformat": 4,
 "nbformat_minor": 4
}
