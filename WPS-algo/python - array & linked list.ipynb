{
 "cells": [
  {
   "cell_type": "code",
   "execution_count": 1,
   "metadata": {},
   "outputs": [],
   "source": [
    "import array"
   ]
  },
  {
   "cell_type": "code",
   "execution_count": 5,
   "metadata": {},
   "outputs": [],
   "source": [
    "arr = array.array('l', [0]*10)"
   ]
  },
  {
   "cell_type": "code",
   "execution_count": 6,
   "metadata": {},
   "outputs": [
    {
     "data": {
      "text/plain": [
       "array('l', [0, 0, 0, 0, 0, 0, 0, 0, 0, 0])"
      ]
     },
     "execution_count": 6,
     "metadata": {},
     "output_type": "execute_result"
    }
   ],
   "source": [
    "arr"
   ]
  },
  {
   "cell_type": "code",
   "execution_count": 8,
   "metadata": {},
   "outputs": [
    {
     "data": {
      "text/plain": [
       "(4360167056, 10)"
      ]
     },
     "execution_count": 8,
     "metadata": {},
     "output_type": "execute_result"
    }
   ],
   "source": [
    "# 앞의 숫자는 memory address 10은 우리가 설정한 길이이다. \n",
    "arr.buffer_info()\n"
   ]
  },
  {
   "cell_type": "code",
   "execution_count": 12,
   "metadata": {},
   "outputs": [
    {
     "data": {
      "text/plain": [
       "'bBuhHiIlLqQfd'"
      ]
     },
     "execution_count": 12,
     "metadata": {},
     "output_type": "execute_result"
    }
   ],
   "source": [
    "array.typecodes"
   ]
  },
  {
   "cell_type": "code",
   "execution_count": 13,
   "metadata": {},
   "outputs": [
    {
     "name": "stdout",
     "output_type": "stream",
     "text": [
      "array('l', [0, 0, 0, 0, 0, 0, 0, 0, 0, 0, 0])\n",
      "(4399907584, 11)\n",
      "array('l', [0, 0, 0, 0, 0, 0, 0, 0, 0, 0, 0, 1])\n",
      "(4399907584, 12)\n",
      "array('l', [0, 0, 0, 0, 0, 0, 0, 0, 0, 0, 0, 1, 2])\n",
      "(4399907584, 13)\n",
      "array('l', [0, 0, 0, 0, 0, 0, 0, 0, 0, 0, 0, 1, 2, 3])\n",
      "(4399907584, 14)\n",
      "array('l', [0, 0, 0, 0, 0, 0, 0, 0, 0, 0, 0, 1, 2, 3, 4])\n",
      "(4399907584, 15)\n",
      "array('l', [0, 0, 0, 0, 0, 0, 0, 0, 0, 0, 0, 1, 2, 3, 4, 5])\n",
      "(4399907584, 16)\n",
      "array('l', [0, 0, 0, 0, 0, 0, 0, 0, 0, 0, 0, 1, 2, 3, 4, 5, 6])\n",
      "(4399907584, 17)\n",
      "array('l', [0, 0, 0, 0, 0, 0, 0, 0, 0, 0, 0, 1, 2, 3, 4, 5, 6, 7])\n",
      "(4399907584, 18)\n",
      "array('l', [0, 0, 0, 0, 0, 0, 0, 0, 0, 0, 0, 1, 2, 3, 4, 5, 6, 7, 8])\n",
      "(4399861808, 19)\n",
      "array('l', [0, 0, 0, 0, 0, 0, 0, 0, 0, 0, 0, 1, 2, 3, 4, 5, 6, 7, 8, 9])\n",
      "(4399861808, 20)\n"
     ]
    }
   ],
   "source": [
    "for i in range(10):\n",
    "    arr.append(i)\n",
    "    print(arr)\n",
    "    print(arr.buffer_info())"
   ]
  },
  {
   "cell_type": "code",
   "execution_count": 14,
   "metadata": {},
   "outputs": [],
   "source": [
    "# array는 정한 length를 벗어나서 생성 할 수 없지만 append는 이것을 가능하게 해준다"
   ]
  },
  {
   "cell_type": "code",
   "execution_count": 15,
   "metadata": {},
   "outputs": [],
   "source": [
    "capacity = 10"
   ]
  },
  {
   "cell_type": "code",
   "execution_count": 17,
   "metadata": {},
   "outputs": [],
   "source": [
    "arr = array.array('l', [0]*capacity)"
   ]
  },
  {
   "cell_type": "code",
   "execution_count": 19,
   "metadata": {},
   "outputs": [
    {
     "name": "stdout",
     "output_type": "stream",
     "text": [
      "array('l', [0, 0, 0, 0, 0, 0, 0, 0, 0, 0])\n"
     ]
    }
   ],
   "source": [
    "print(arr)"
   ]
  },
  {
   "cell_type": "markdown",
   "metadata": {},
   "source": [
    "# 실습 Array List 직접 구현"
   ]
  },
  {
   "cell_type": "code",
   "execution_count": 21,
   "metadata": {},
   "outputs": [],
   "source": [
    "# 기반 코드\n",
    "import array\n",
    "\n",
    "class ArrayList:\n",
    "    def __init__(self, capacity):\n",
    "        self.capacity = capacity\n",
    "        self.length = 0\n",
    "        self.array = array.array('l', [0]*self.capacity) # TODO: self.array 생성\n",
    "    \n",
    "    def isEmpty(self):\n",
    "        # length가 0보다 크다면 True 아니라면 False\n",
    "        if self.length > 0:\n",
    "            return True\n",
    "        else:\n",
    "            return False\n",
    "\n",
    "    def prepend(self, value):\n",
    "        # 맨 앞에서 생성\n",
    "        if self.capacity == self.length:\n",
    "            self.capacity *= 2\n",
    "            new _array = array.array('l', [0]* self.capacity)\n",
    "            for i in range(slef.length):\n",
    "                new_array[i+1] = self.array[i]\n",
    "            self.array = new_array\n",
    "        else:\n",
    "            for i in range(self.length -1, -1, -1):\n",
    "                self.array[i + 1] = self.array[i]\n",
    "        self.array[0] = value\n",
    "        self.length += 1\n",
    "\n",
    "    def append(self, value):\n",
    "        # 맨 뒤에서 생성\n",
    "        if self.capacity == self.length:\n",
    "            self.capacity *= 2\n",
    "            new _array = array.array('l', [0]* self.capacity)\n",
    "            for i in range(slef.length):\n",
    "                new_array[i] = self.array[i]\n",
    "            self.array = new_array\n",
    "        self.array[self.length] = value\n",
    "        self.length += 1\n",
    "\n",
    "    def setHead(self, index):\n",
    "        # 리스트의 첫 머리(head)를 결정하는 연산자\n",
    "        self.array = self.array[index:]\n",
    "        return self.array\n",
    "\n",
    "    def access(self, index):\n",
    "        # 만약 length보다 큰 값이면서 capacity보다 같거나 작은 값이라면 초기화 했던 쓰레기 값이 반환 될 것이니, \n",
    "        # 그에 해당하는 처리를 할 수 있는 조건문을 작성한다\n",
    "        \n",
    "        # 주어진 인덱스에 해당하는 요소에 접근하는 연산자\n",
    "        return self.array[index]\n",
    "\n",
    "    def insert(self, index, value):\n",
    "        # 주어진 인덱스에 새로운 요소를 삽입하는 연산자\n",
    "        front = self.array[:index]\n",
    "        back = self.array[index:]\n",
    "        self.array = front + array.array('l', [value]) + back\n",
    "        self.length = self.length+1\n",
    "        return self.array\n",
    "\n",
    "    def remove(self, index):\n",
    "        # 주어진 인덱스에 해당하는 요소를 제거하는 연산자\n",
    "        self.array[index] = -1\n",
    "        return self.array\n",
    "\n",
    "    def print(self):\n",
    "        for i in self.array:\n",
    "            print(i, end=' ')\n",
    "        "
   ]
  },
  {
   "cell_type": "markdown",
   "metadata": {},
   "source": [
    "# 연결 리스트"
   ]
  },
  {
   "cell_type": "code",
   "execution_count": null,
   "metadata": {},
   "outputs": [],
   "source": [
    "class Node:\n",
    "    def __init__(self, value, next):\n",
    "        self.value = value\n",
    "        self.next = next\n",
    "\n",
    "\n",
    "class SinglyLinkedList:\n",
    "    def __init__(self):\n",
    "        self.head = None\n",
    "    \n",
    "    def is_empty(self):\n",
    "        return self.head==None\n",
    "\n",
    "    def prepend(self, value):\n",
    "        new_node = Node(value, None)\n",
    "        if self.head:\n",
    "            new_node.next = self.head\n",
    "        self.head = new_node\n",
    "        \n",
    "        # 이거 self.head = Node(value, self.head) 한 줄로 끝낼 수 있음.\n",
    "\n",
    "    def append(self, value):\n",
    "        last_node = self.head\n",
    "        while True:\n",
    "            if last_node.next:\n",
    "                last_node = last_node.next\n",
    "            else:\n",
    "                break\n",
    "        last_node.next = Node(value, None)\n",
    "\n",
    "    def set_head(self, index):\n",
    "        pass\n",
    "\n",
    "    def access(self, index):\n",
    "        node = self.head\n",
    "        if not node:\n",
    "            return False\n",
    "        for i in range(index+1):\n",
    "            if i == index:\n",
    "                print(node.value)\n",
    "            else:\n",
    "                node = node.next\n",
    "\n",
    "    def insert(self, index, value):\n",
    "        pass\n",
    "\n",
    "    def remove(self, index):\n",
    "        pass\n",
    "\n",
    "    def print(self):\n",
    "        node = self.head\n",
    "        while True:\n",
    "            if node.next == None:\n",
    "                print(node.value)\n",
    "                break\n",
    "            print(node.value)\n",
    "            node = node.next\n",
    "            \n",
    "lst = SinglyLinkedList()\n",
    "\n",
    "lst.prepend(2)\n",
    "lst.prepend(1)\n",
    "\n",
    "print('prepend lst >>')\n",
    "lst.print()\n",
    "\n",
    "print('append lst >>')\n",
    "lst.append(3)\n",
    "lst.print()\n",
    "\n",
    "print('list is empty? >>', lst.is_empty())\n",
    "\n"
   ]
  }
 ],
 "metadata": {
  "kernelspec": {
   "display_name": "Python 3",
   "language": "python",
   "name": "python3"
  },
  "language_info": {
   "codemirror_mode": {
    "name": "ipython",
    "version": 3
   },
   "file_extension": ".py",
   "mimetype": "text/x-python",
   "name": "python",
   "nbconvert_exporter": "python",
   "pygments_lexer": "ipython3",
   "version": "3.8.3"
  }
 },
 "nbformat": 4,
 "nbformat_minor": 4
}
