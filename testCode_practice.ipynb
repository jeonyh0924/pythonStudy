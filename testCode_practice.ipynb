{
 "cells": [
  {
   "cell_type": "code",
   "execution_count": 199,
   "metadata": {},
   "outputs": [],
   "source": [
    "import unittest\n",
    "class Stack:\n",
    "    EMPTY_POP = -1\n",
    "    def __init__(self):\n",
    "        self.s = []\n",
    "    def push(self, val):\n",
    "        self.s.append(val)\n",
    "    def pop(self):\n",
    "        if not self.s:\n",
    "            return S.EMPTY_POP\n",
    "        val = self.s.pop()\n",
    "        return val\n",
    "    def size(self):\n",
    "        return len(self.s)\n",
    "    def empty(self):\n",
    "        if not self.s:\n",
    "            # 비어있다면 1 리턴\n",
    "            return 1\n",
    "        # 비어있지 않다면 0 리턴\n",
    "        return 0\n",
    "    def top(self):\n",
    "        if not self.s:\n",
    "            # 스택에 들어있는 정수가 없다면 -1 출력\n",
    "            return EMPTY_POP\n",
    "        # 가장 위 정수 출력\n",
    "        return self.s[-1]\n",
    "    \n",
    "class StackTestCase(unittest.TestCase):\n",
    "    def setUp(self):\n",
    "        # 테스트 코드 클래스에서 Stack의 인스턴스 생성.\n",
    "        # 테스트 코드의 인스턴스를 생성 후 setUp()함수 호출 시 Stack클래스에 접근한다.\n",
    "        self.stack = Stack()\n",
    "    def test_pop(self):\n",
    "        # assertEqual // 첫번째 인자와 두번째 인자의 값이 같지 않다면 assert Errror\n",
    "        self.assertEqual(self.stack.pop(), S.EMPTY_POP)\n",
    "    def test_pop_with_data(self):\n",
    "        val = 10\n",
    "        self.stack.push(val)\n",
    "        self.assertEqual(self.stack.pop(), val)\n",
    "    def test_empty(self):\n",
    "        # 스택이 비어 있다면, 1 리턴\n",
    "        self.assertEqual(self.stack.empty(), 1)\n",
    "    def test_empty_with_data(self):\n",
    "        val = 10\n",
    "        self.stack.push(10)\n",
    "        self.assertEqual(self.stack.empty(), 0)\n",
    "        self.stack.s.remove(val)\n",
    "        \n",
    "    # top: 스택의 가장 위에 있는 정수를 출력한다. 만약 스택에 들어있는 정수가 없는 경우에는 -1을 출력한다.\n",
    "#     def \n",
    "    # size : 스택에 들어있는 정수의 개수를 출력한다\n",
    "    "
   ]
  },
  {
   "cell_type": "code",
   "execution_count": 200,
   "metadata": {},
   "outputs": [],
   "source": [
    "test = StackTestCase()\n",
    "# 인스턴스 생성"
   ]
  },
  {
   "cell_type": "code",
   "execution_count": 201,
   "metadata": {},
   "outputs": [],
   "source": [
    "test.setUp()\n",
    "# 인스턴스 초기화"
   ]
  },
  {
   "cell_type": "code",
   "execution_count": 202,
   "metadata": {},
   "outputs": [],
   "source": [
    "# test.s.push(5)\n",
    "# # 리스트 값 추가"
   ]
  },
  {
   "cell_type": "code",
   "execution_count": 203,
   "metadata": {},
   "outputs": [],
   "source": [
    "test.test_pop()"
   ]
  },
  {
   "cell_type": "code",
   "execution_count": 204,
   "metadata": {
    "scrolled": true
   },
   "outputs": [
    {
     "data": {
      "text/plain": [
       "[]"
      ]
     },
     "execution_count": 204,
     "metadata": {},
     "output_type": "execute_result"
    }
   ],
   "source": [
    "test.stack.s"
   ]
  },
  {
   "cell_type": "code",
   "execution_count": 205,
   "metadata": {
    "scrolled": true
   },
   "outputs": [],
   "source": [
    "test.test_pop_with_data()"
   ]
  },
  {
   "cell_type": "markdown",
   "metadata": {},
   "source": [
    "# empty test"
   ]
  },
  {
   "cell_type": "code",
   "execution_count": 206,
   "metadata": {},
   "outputs": [],
   "source": [
    "test.test_empty()"
   ]
  },
  {
   "cell_type": "code",
   "execution_count": 207,
   "metadata": {},
   "outputs": [
    {
     "data": {
      "text/plain": [
       "[]"
      ]
     },
     "execution_count": 207,
     "metadata": {},
     "output_type": "execute_result"
    }
   ],
   "source": [
    "test.stack.s"
   ]
  },
  {
   "cell_type": "code",
   "execution_count": 208,
   "metadata": {},
   "outputs": [],
   "source": [
    "test.test_empty_with_data()"
   ]
  },
  {
   "cell_type": "code",
   "execution_count": 210,
   "metadata": {},
   "outputs": [
    {
     "data": {
      "text/plain": [
       "<__main__.Stack at 0x10ce019d0>"
      ]
     },
     "execution_count": 210,
     "metadata": {},
     "output_type": "execute_result"
    }
   ],
   "source": [
    "test.stack"
   ]
  },
  {
   "cell_type": "code",
   "execution_count": 211,
   "metadata": {},
   "outputs": [
    {
     "data": {
      "text/plain": [
       "[]"
      ]
     },
     "execution_count": 211,
     "metadata": {},
     "output_type": "execute_result"
    }
   ],
   "source": [
    "test.stack.s"
   ]
  },
  {
   "cell_type": "markdown",
   "metadata": {},
   "source": [
    "# 이거 지금 다 손으로 했는데 자동화를....."
   ]
  },
  {
   "cell_type": "code",
   "execution_count": 53,
   "metadata": {},
   "outputs": [],
   "source": [
    "class Stack:\n",
    "    def __init__(self):\n",
    "        self.list = []\n",
    "    def push(self, data):\n",
    "        self.list.append(data)\n",
    "    def top(self):\n",
    "        return self.list[-1]\n",
    "    def size(self):\n",
    "        return len(self.list)\n",
    "    def pop(self):\n",
    "        self.list.pop(-1)"
   ]
  },
  {
   "cell_type": "code",
   "execution_count": null,
   "metadata": {},
   "outputs": [],
   "source": [
    "counts = int(input())\n",
    "for i in range(counts):\n",
    "    data = input().split()\n",
    "    "
   ]
  },
  {
   "cell_type": "code",
   "execution_count": 54,
   "metadata": {},
   "outputs": [],
   "source": [
    "s = Stack()"
   ]
  },
  {
   "cell_type": "code",
   "execution_count": 55,
   "metadata": {},
   "outputs": [
    {
     "data": {
      "text/plain": [
       "<__main__.Stack at 0x10c50b810>"
      ]
     },
     "execution_count": 55,
     "metadata": {},
     "output_type": "execute_result"
    }
   ],
   "source": [
    "s"
   ]
  },
  {
   "cell_type": "code",
   "execution_count": 56,
   "metadata": {},
   "outputs": [],
   "source": [
    "s.push(1)"
   ]
  },
  {
   "cell_type": "code",
   "execution_count": 57,
   "metadata": {},
   "outputs": [],
   "source": [
    "s.push(2)"
   ]
  },
  {
   "cell_type": "code",
   "execution_count": 58,
   "metadata": {},
   "outputs": [],
   "source": [
    "s.push(5)"
   ]
  },
  {
   "cell_type": "code",
   "execution_count": 59,
   "metadata": {},
   "outputs": [
    {
     "data": {
      "text/plain": [
       "[1, 2, 5]"
      ]
     },
     "execution_count": 59,
     "metadata": {},
     "output_type": "execute_result"
    }
   ],
   "source": [
    "s.list"
   ]
  },
  {
   "cell_type": "code",
   "execution_count": 60,
   "metadata": {},
   "outputs": [
    {
     "data": {
      "text/plain": [
       "5"
      ]
     },
     "execution_count": 60,
     "metadata": {},
     "output_type": "execute_result"
    }
   ],
   "source": [
    "s.top()"
   ]
  },
  {
   "cell_type": "code",
   "execution_count": 61,
   "metadata": {},
   "outputs": [
    {
     "data": {
      "text/plain": [
       "3"
      ]
     },
     "execution_count": 61,
     "metadata": {},
     "output_type": "execute_result"
    }
   ],
   "source": [
    "s.size()"
   ]
  },
  {
   "cell_type": "code",
   "execution_count": 62,
   "metadata": {},
   "outputs": [],
   "source": [
    "s.pop()"
   ]
  },
  {
   "cell_type": "code",
   "execution_count": 63,
   "metadata": {},
   "outputs": [
    {
     "data": {
      "text/plain": [
       "[1, 2]"
      ]
     },
     "execution_count": 63,
     "metadata": {},
     "output_type": "execute_result"
    }
   ],
   "source": [
    "s.list"
   ]
  },
  {
   "cell_type": "code",
   "execution_count": null,
   "metadata": {},
   "outputs": [],
   "source": []
  }
 ],
 "metadata": {
  "kernelspec": {
   "display_name": "Python 3",
   "language": "python",
   "name": "python3"
  },
  "language_info": {
   "codemirror_mode": {
    "name": "ipython",
    "version": 3
   },
   "file_extension": ".py",
   "mimetype": "text/x-python",
   "name": "python",
   "nbconvert_exporter": "python",
   "pygments_lexer": "ipython3",
   "version": "3.7.4"
  }
 },
 "nbformat": 4,
 "nbformat_minor": 4
}
