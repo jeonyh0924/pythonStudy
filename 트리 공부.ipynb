{
 "cells": [
  {
   "cell_type": "code",
   "execution_count": 30,
   "metadata": {},
   "outputs": [],
   "source": [
    "class Node:\n",
    "    def __init__(self, value):\n",
    "        self.value = value\n",
    "        self.left = None\n",
    "        self.right = None"
   ]
  },
  {
   "cell_type": "markdown",
   "metadata": {},
   "source": [
    "-이진 탐색 트리에 데이터 넣기"
   ]
  },
  {
   "cell_type": "code",
   "execution_count": 8,
   "metadata": {},
   "outputs": [],
   "source": [
    "class NodeMgmt:\n",
    "    def __init__(self, head):\n",
    "        self.head = head\n",
    "    \n",
    "    def insert(self, value):\n",
    "        self.current_node = self.head\n",
    "        \n",
    "        while True:\n",
    "            if value < self.current_node.value:\n",
    "                if self.current_node.left != None:\n",
    "                    self.current_node = self.current_node.left\n",
    "                else:\n",
    "                    self.current_node.left = Node(value)\n",
    "                    break\n",
    "            else:\n",
    "                if self.current_node.right != None:\n",
    "                    self.current_node = self.current_node.right\n",
    "                else:\n",
    "                    self.current_node.right = Node(value)\n",
    "                    break"
   ]
  },
  {
   "cell_type": "code",
   "execution_count": 10,
   "metadata": {},
   "outputs": [],
   "source": [
    "head = Node(1)\n",
    "BST = NodeMgmt(head)\n",
    "BST.insert(2)"
   ]
  },
  {
   "cell_type": "markdown",
   "metadata": {},
   "source": [
    "이진 탐색 트리 탐색"
   ]
  },
  {
   "cell_type": "code",
   "execution_count": 11,
   "metadata": {},
   "outputs": [],
   "source": [
    "class NodeMgmt:\n",
    "    def __init__(self, head):\n",
    "        self.head = head\n",
    "    \n",
    "    def insert(self, value):\n",
    "        self.current_node = self.head\n",
    "        \n",
    "        while True:\n",
    "            if value < self.current_node.value:\n",
    "                if self.current_node.left != None:\n",
    "                    self.current_node = self.current_node.left\n",
    "                else:\n",
    "                    self.current_node.left = Node(value)\n",
    "                    break\n",
    "            else:\n",
    "                if self.current_node.right != None:\n",
    "                    self.current_node = self.current_node.right\n",
    "                else:\n",
    "                    self.current_node.right = Node(value)\n",
    "                    break\n",
    "                    \n",
    "    def search(self, value):\n",
    "        self.current_node = self.head\n",
    "        while self.current_code:\n",
    "            if self.current_node.value == value:\n",
    "                return True\n",
    "             "
   ]
  },
  {
   "cell_type": "markdown",
   "metadata": {},
   "source": [
    "1. 삭제 할 node의 오른쪽 자식 중 , 가장 작은 값을 삭제 할 Node의 ParentNode가 가리키게 할 경우 \n",
    "- 삭제할 node의 오른쪽 자식 선택\n",
    "- 오른쪽 자식의 가장 왼쪽에 있는 Node를 선택\n",
    "- 해당 Node를 삭제 할 Node의 Parent Node의 왼쪽 Branch가 가리키게 함\n",
    "- 해당 Node의 왼쪽 Branch가 삭제 할 Node의 "
   ]
  },
  {
   "cell_type": "code",
   "execution_count": null,
   "metadata": {},
   "outputs": [],
   "source": []
  },
  {
   "cell_type": "markdown",
   "metadata": {},
   "source": [
    "# 연습장"
   ]
  },
  {
   "cell_type": "code",
   "execution_count": 57,
   "metadata": {},
   "outputs": [],
   "source": [
    "class Node:\n",
    "    def __init__(self, data):\n",
    "        self.data = data\n",
    "        self.left = self.right = None\n",
    "        # Node 클래스 정의, 노드의 값과 좌/우 노드 총 세개의 속성을 가진다. "
   ]
  },
  {
   "cell_type": "code",
   "execution_count": 15,
   "metadata": {},
   "outputs": [],
   "source": [
    "class Tree:\n",
    "    def __init__(self):\n",
    "        self.root = None"
   ]
  },
  {
   "cell_type": "markdown",
   "metadata": {},
   "source": [
    "#### 전위 순회  : DLR 순서를 가진다. (D : 현재 노드 출력, L: 현재 노드 왼쪽 서브트리, R:현재 노드 오른쪽 서브트리)\n",
    "    - 해당 노드를 출력하고, 왼쪽으로 이동한다. 왼쪽 노드가 존재하면 계속해서 왼쪽으로 이동하여 출력을 하고, 왼쪽이 끝나는 노드부터 오른쪽 노드를 순회한다.\n"
   ]
  },
  {
   "cell_type": "code",
   "execution_count": 16,
   "metadata": {},
   "outputs": [],
   "source": [
    "# 전위순회 예제\n",
    "def preorderTraversal(self, node):\n",
    "    print(node, end='')\n",
    "    if not node.left  == None : self.preorderTraversal(node.left)\n",
    "    if not node.right == None : self.preorderTraversal(node.right)\n"
   ]
  },
  {
   "cell_type": "markdown",
   "metadata": {},
   "source": [
    "#### 중위 순회 : LDR 순서를 가진다.  왼쪽 순회가 우선이고, 출력이 중앙에 위치힌다.\n"
   ]
  },
  {
   "cell_type": "code",
   "execution_count": 17,
   "metadata": {},
   "outputs": [],
   "source": [
    "def inorderTraversal(self, node):\n",
    "    if not node.left  == None : self.inorderTraversal(node.left)\n",
    "    print(node, end='')\n",
    "    if not node.right == None : self.inorderTraversal(node.right)\n"
   ]
  },
  {
   "cell_type": "markdown",
   "metadata": {},
   "source": [
    "#### 후위순회 : LRD로 순회한다. 출력이 마지막에 위치한다. "
   ]
  },
  {
   "cell_type": "code",
   "execution_count": 31,
   "metadata": {},
   "outputs": [],
   "source": [
    "def postorderTraversal(self, node):\n",
    "    if not node.left  == None : self.postorderTraversal(node.left)\n",
    "    if not node.right == None : self.postorderTraversal(node.right)\n",
    "    print(node, end='')\n"
   ]
  },
  {
   "cell_type": "code",
   "execution_count": 42,
   "metadata": {},
   "outputs": [],
   "source": [
    "class Node:\n",
    "    def __init__(self, data):\n",
    "        self.data = data\n",
    "        self.left = self.right = None\n",
    "        # Node 클래스 정의, 노드의 값과 좌/우 노드 총 세개의 속성을 가진다. \n",
    "def init_tree():\n",
    "    global root\n",
    "    new_node = Node('A')\n",
    "    print('new node', new_node)\n",
    "    root= new_node\n",
    "    print(root)\n",
    "    print('root data', root.data)\n",
    "    new_node= Node('B')\n",
    "    root.left = new_node\n",
    "    new_node = Node('C')\n",
    "    root.right = new_node\n",
    "    \n",
    "    new_node1 = Node('D')\n",
    "    new_node2 = Node('E')\n",
    "    \n",
    "    node = root.left\n",
    "    node.left = new_node1\n",
    "    node.right = new_node2\n",
    "    \n",
    "    new_node1 = Node('F')\n",
    "    new_node2 = Node('G')\n",
    "    \n",
    "    node = root.right\n",
    "    \n",
    "    node.left = new_node1\n",
    "    node.right = new_node2\n",
    "# 전위 \n",
    "def preorder_traverse(node):\n",
    "    if node== None:return\n",
    "    print(node.data, end='->')\n",
    "    preorder_traverse(node.left)\n",
    "    preorder_traverse(node.right)\n"
   ]
  },
  {
   "cell_type": "code",
   "execution_count": 43,
   "metadata": {},
   "outputs": [
    {
     "name": "stdout",
     "output_type": "stream",
     "text": [
      "new node <__main__.Node object at 0x109d50430>\n",
      "<__main__.Node object at 0x109d50430>\n",
      "root data A\n"
     ]
    }
   ],
   "source": [
    "init_tree()"
   ]
  },
  {
   "cell_type": "code",
   "execution_count": 44,
   "metadata": {},
   "outputs": [
    {
     "name": "stdout",
     "output_type": "stream",
     "text": [
      "A->B->D->E->C->F->G->"
     ]
    }
   ],
   "source": [
    "preorder_traverse(root)"
   ]
  },
  {
   "cell_type": "code",
   "execution_count": 46,
   "metadata": {},
   "outputs": [],
   "source": [
    "# 중위 >> 왼쪽으로 먼저 간 다음 데이터를 출력시키고 오른쪽으로 간다\n",
    "def inorder_traverse(node):\n",
    "    if node == None: return\n",
    "    inorder_traverse(node.left)\n",
    "    print(node.data, end='->')\n",
    "    inorder_traverse(node.right)"
   ]
  },
  {
   "cell_type": "code",
   "execution_count": 47,
   "metadata": {},
   "outputs": [
    {
     "name": "stdout",
     "output_type": "stream",
     "text": [
      "D->B->E->A->F->C->G->"
     ]
    }
   ],
   "source": [
    "inorder_traverse(root)"
   ]
  },
  {
   "cell_type": "code",
   "execution_count": 50,
   "metadata": {},
   "outputs": [],
   "source": [
    "# 후위 >> \n",
    "def post_order_traverse(node):\n",
    "    if node == None: return\n",
    "    post_order_traverse(node.left)\n",
    "    post_order_traverse(node.right)\n",
    "    print(node.data, end='->')"
   ]
  },
  {
   "cell_type": "code",
   "execution_count": 51,
   "metadata": {},
   "outputs": [
    {
     "name": "stdout",
     "output_type": "stream",
     "text": [
      "D->E->B->F->G->C->A->"
     ]
    }
   ],
   "source": [
    "post_order_traverse(root)"
   ]
  },
  {
   "cell_type": "code",
   "execution_count": null,
   "metadata": {},
   "outputs": [],
   "source": []
  },
  {
   "cell_type": "code",
   "execution_count": null,
   "metadata": {},
   "outputs": [],
   "source": []
  },
  {
   "cell_type": "code",
   "execution_count": null,
   "metadata": {},
   "outputs": [],
   "source": []
  },
  {
   "cell_type": "code",
   "execution_count": 68,
   "metadata": {},
   "outputs": [],
   "source": [
    "class Node:\n",
    "    def __init__(self):\n",
    "        self.data = None\n",
    "        self.left = self.right = None\n",
    "        # Node 클래스 정의, 노드의 값과 좌/우 노드 총 세개의 속성을 가진다. "
   ]
  },
  {
   "cell_type": "code",
   "execution_count": 69,
   "metadata": {},
   "outputs": [
    {
     "name": "stdout",
     "output_type": "stream",
     "text": [
      "7\n"
     ]
    }
   ],
   "source": [
    "n = int(input())\n",
    "tree = dict()\n",
    "root = 'A'"
   ]
  },
  {
   "cell_type": "code",
   "execution_count": 70,
   "metadata": {},
   "outputs": [
    {
     "name": "stdout",
     "output_type": "stream",
     "text": [
      "A B C\n",
      "B D .\n",
      "C E F\n",
      "E . .\n",
      "F . G\n",
      "D . .\n",
      "G . .\n"
     ]
    }
   ],
   "source": [
    "for i in range(n):\n",
    "    a, b, c = input().split()\n",
    "    if a == root:\n",
    "        tree[root] = Node()\n",
    "        tree[root].data = a\n",
    "        if b != '.':\n",
    "            tree[root].left = b\n",
    "            tree[b] = Node()\n",
    "            tree[b].data = b\n",
    "            \n",
    "        if c != '.':\n",
    "            tree[root].right = c\n",
    "            tree[c]= Node()\n",
    "            tree[c].data = c\n",
    "        \n",
    "        else:\n",
    "            if b != '.':\n",
    "                tree[a].left = b\n",
    "                tree[b] = Node()\n",
    "                tree[b].data = b\n",
    "            if c != '.':\n",
    "                tree[a].right = c\n",
    "                tree[c] =Node()\n",
    "                tree[c].data= c\n",
    "                "
   ]
  },
  {
   "cell_type": "code",
   "execution_count": 72,
   "metadata": {},
   "outputs": [],
   "source": [
    "def preorder(node):\n",
    "    print(node.data)\n",
    "    if node.left is not None:\n",
    "        preorder(tree[node.left])\n",
    "    if node.right is not None:\n",
    "        preorder(tree[node.right])"
   ]
  },
  {
   "cell_type": "code",
   "execution_count": 73,
   "metadata": {},
   "outputs": [
    {
     "name": "stdout",
     "output_type": "stream",
     "text": [
      "A\n",
      "B\n",
      "C\n"
     ]
    }
   ],
   "source": [
    "preorder(tree[root])"
   ]
  },
  {
   "cell_type": "code",
   "execution_count": 77,
   "metadata": {},
   "outputs": [],
   "source": [
    "\n",
    "def inorder(node):\n",
    "    if node.left is not None:\n",
    "        inorder(tree[node.left])\n",
    "    print(node.data)\n",
    "    if node.right is not None:\n",
    "        inorder(tree[node.right])"
   ]
  },
  {
   "cell_type": "code",
   "execution_count": 78,
   "metadata": {},
   "outputs": [
    {
     "name": "stdout",
     "output_type": "stream",
     "text": [
      "B\n",
      "A\n",
      "C\n"
     ]
    }
   ],
   "source": [
    "inorder(tree[root])"
   ]
  },
  {
   "cell_type": "code",
   "execution_count": 83,
   "metadata": {},
   "outputs": [
    {
     "data": {
      "text/plain": [
       "{'A': <__main__.Node at 0x109c25a30>,\n",
       " 'B': <__main__.Node at 0x109d7bca0>,\n",
       " 'C': <__main__.Node at 0x109d7bac0>,\n",
       " 'E': <__main__.Node at 0x109d7ba60>,\n",
       " 'F': <__main__.Node at 0x109d7b700>,\n",
       " 'D': <__main__.Node at 0x109d95e80>,\n",
       " 'G': <__main__.Node at 0x109d95dc0>}"
      ]
     },
     "execution_count": 83,
     "metadata": {},
     "output_type": "execute_result"
    }
   ],
   "source": [
    "tree"
   ]
  },
  {
   "cell_type": "markdown",
   "metadata": {},
   "source": [
    "1. 현재 노드 값을 출력한다. \n",
    "2. 현재 노드의 왼쪽 자식의 값이 . 이 아니라면 왼쪽 자식으로 이동하고 다시 1번을 진행한다.\n",
    "3. 현재 노드의 오른쪽 자식의 값이 . 이 아니라면 오른쪽 자식으로 이동하고 다시 1번을 진행한다"
   ]
  },
  {
   "cell_type": "code",
   "execution_count": 86,
   "metadata": {},
   "outputs": [
    {
     "name": "stdout",
     "output_type": "stream",
     "text": [
      "7\n",
      "A B C\n",
      "B D .\n",
      "C E F\n",
      "E . .\n",
      "F . G\n",
      "D . .\n",
      "G . .\n",
      "ABDCEFG\n",
      "DBAECFG\n",
      "DBEGFCA"
     ]
    }
   ],
   "source": [
    "class Node:\n",
    "    def __init__(self, data, left_node, right_node):\n",
    "        self.data = data\n",
    "        self.left_node = left_node\n",
    "        self.right_node = right_node\n",
    "    \n",
    "def pre_order(node):\n",
    "    print(node.data, end='')\n",
    "    if node.left_node != '.':\n",
    "        pre_order(tree[node.left_node])\n",
    "    if node.right_node != '.':\n",
    "        pre_order(tree[node.right_node])\n",
    "\n",
    "\n",
    "def in_order(node):\n",
    "    if node.left_node != '.':\n",
    "        in_order(tree[node.left_node])\n",
    "    print(node.data, end='')\n",
    "    if node.right_node != '.':\n",
    "        in_order(tree[node.right_node])\n",
    "\n",
    "def post_order(node):\n",
    "    if node.left_node != '.':\n",
    "        post_order(tree[node.left_node])\n",
    "    if node.right_node != '.':\n",
    "        post_order(tree[node.right_node])\n",
    "    print(node.data, end='')\n",
    "\n",
    "n = int(input())\n",
    "tree = {}\n",
    "\n",
    "for _ in range(n):\n",
    "    data, left_node, right_node = input().split(' ')\n",
    "    tree[data] = Node(data, left_node, right_node)\n",
    "    \n",
    "\n",
    "pre_order(tree['A'])\n",
    "print()\n",
    "in_order(tree['A'])\n",
    "print()\n",
    "post_order(tree['A'])"
   ]
  },
  {
   "cell_type": "code",
   "execution_count": 87,
   "metadata": {},
   "outputs": [
    {
     "data": {
      "text/plain": [
       "dict"
      ]
     },
     "execution_count": 87,
     "metadata": {},
     "output_type": "execute_result"
    }
   ],
   "source": [
    "type(tree)"
   ]
  },
  {
   "cell_type": "code",
   "execution_count": null,
   "metadata": {},
   "outputs": [],
   "source": []
  }
 ],
 "metadata": {
  "kernelspec": {
   "display_name": "Python 3",
   "language": "python",
   "name": "python3"
  },
  "language_info": {
   "codemirror_mode": {
    "name": "ipython",
    "version": 3
   },
   "file_extension": ".py",
   "mimetype": "text/x-python",
   "name": "python",
   "nbconvert_exporter": "python",
   "pygments_lexer": "ipython3",
   "version": "3.8.3"
  }
 },
 "nbformat": 4,
 "nbformat_minor": 4
}
