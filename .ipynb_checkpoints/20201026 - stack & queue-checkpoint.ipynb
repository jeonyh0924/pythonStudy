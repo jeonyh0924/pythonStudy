{
 "cells": [
  {
   "cell_type": "markdown",
   "metadata": {},
   "source": [
    "# 스택"
   ]
  },
  {
   "cell_type": "markdown",
   "metadata": {},
   "source": [
    "- Python의 array.array를 이용해 직접 구현하기\n",
    "- **구현 조건**\n",
    "  - `class`와 `array.array`를 이용하여 스택을 구현한다.\n",
    "  - `array.array`의 용량(capacity)은 고정되어 있다고 가정한다.\n",
    "    - 배열의 크기가 부족하면 *오버플로우*가 발생한다.\n",
    "  - 다음과 같은 스택 ADT의 연산자를 구현해야 한다.\n",
    "    1. 자료를 Top 위에 삽입하는 연산자 (Push)\n",
    "      더 이상 삽입할 수 없는 경우 *오버플로우* 발생 (에러 발생)\n",
    "    1. 자료를 Top에서 꺼내는 연산자 (Pop)\n",
    "      더 이상 꺼낼 수 없는 경우 *언더플로우* 발생 (에러 발생)\n",
    "    1. Top에 있는 자료를 반환하지만, 삭제하지는 않는 연산자 (Peek)\n",
    "    1. 스택이 비어있는지 확인하는 연산자 (Empty)"
   ]
  },
  {
   "cell_type": "code",
   "execution_count": 2,
   "metadata": {},
   "outputs": [],
   "source": [
    "import array\n",
    "\n",
    "class Stack:\n",
    "    def __init__(self, capacity):\n",
    "        self.capacity = capacity\n",
    "        self.top = 0\n",
    "        self.array = array.array('l', [0]*capacity)\n",
    "    \n",
    "    def push(self, value):\n",
    "        var = None\n",
    "        for i in self.array:\n",
    "            if i != 0:\n",
    "                var = True\n",
    "            else:\n",
    "                var = False\n",
    "                \n",
    "        # 전체 값이 0 이 아니라면 배열의 확장이 필요\n",
    "        if var is True:\n",
    "            raise ValueError('Stack Overflow')\n",
    "        \n",
    "        self.array[-1] = value\n",
    "        self.array = self.array[:-1]\n",
    "        self.top = value\n",
    "        return self.top\n",
    "\n",
    "    def pop(self):\n",
    "        # 자료를 Top에서 꺼내는 연산자 (Pop) 더 이상 꺼낼 수 없는 경우 언더플로우 발생 (에러 발생)\n",
    "        if top == 0:\n",
    "            raise ValueError('Stack Overflow')\n",
    "        else:\n",
    "            self.array = self.array[-1]\n",
    "            data = self.top\n",
    "            self.top = self.array[-1]\n",
    "            return data\n",
    "    \n",
    "    def peek(self):\n",
    "        pass\n",
    "    \n",
    "    def is_empty(self):\n",
    "        if self.top == 0:\n",
    "            return True\n",
    "        else:\n",
    "            return False\n"
   ]
  },
  {
   "cell_type": "markdown",
   "metadata": {},
   "source": [
    "# 선형 큐"
   ]
  },
  {
   "cell_type": "code",
   "execution_count": null,
   "metadata": {},
   "outputs": [],
   "source": [
    "import array\n",
    "\n",
    "class LinearQueue:\n",
    "    def __init__(self, capacity):\n",
    "        self.capacity = capacity\n",
    "        self.front = 0\n",
    "        self.rear = 0\n",
    "        self.array = array.array('l', [0]*capacity)\n",
    "\n",
    "    def put(self, value):\n",
    "        if self.rear == self.capacity:\n",
    "            raise ValueError('Stack Overflow')\n",
    "        self.array[self.rear] = value\n",
    "        self.rear +=1\n",
    "        return f'{self.rear-1}번 째 데이터는 {self.array[self.rear-1]}'\n",
    " \n",
    "\n",
    "    def get(self):\n",
    "        try:\n",
    "            self.front += 1\n",
    "            return self.array[self.front-1]\n",
    "        except IndexError:\n",
    "            return f'stack overflow'\n",
    "\n",
    "    def peek(self):\n",
    "        if self.front < self.rear:\n",
    "            return self.array[self.front]\n",
    "        else:\n",
    "            return f'stack underflow'\n",
    "\n",
    "\n",
    "    def print(self):\n",
    "        for i in self.array:\n",
    "            print(i, end=' ')"
   ]
  },
  {
   "cell_type": "markdown",
   "metadata": {},
   "source": [
    "# 환형 큐"
   ]
  },
  {
   "cell_type": "code",
   "execution_count": 3,
   "metadata": {},
   "outputs": [],
   "source": [
    "import array\n",
    "\n",
    "class CircularQueue:\n",
    "    def __init__(self, capacity):\n",
    "        self.capacity = capacity\n",
    "        self.front = 0\n",
    "        self.rear = 0\n",
    "        self.is_full = False\n",
    "        self.array = array.array('l', [0]*capacity)\n",
    "\n",
    "    def put(self, value):\n",
    "        if self.is_full == True\n",
    "            return f'capacity is full!'\n",
    "        \n",
    "        if self.rear == self.front:\n",
    "            self.is_full = True\n",
    "            \n",
    "        self.array[self.rear] = value\n",
    "        self.rear += 1\n",
    "        return f'{self.rear-1}번 째 데이터는 {self.array[self.rear-1]}'\n",
    "\n",
    "    def get(self):\n",
    "        if self.front == 3:\n",
    "            self.front = 0 \n",
    "        data = self.array[self.front]\n",
    "        self.array[self.front] = 0\n",
    "        self.front+=1\n",
    "        return data\n",
    "\n",
    "    def peek(self):\n",
    "        return self.array[self.front]\n",
    "\n",
    "    def print(self):\n",
    "        for i in self.array:\n",
    "            print(i, end= ' ')"
   ]
  },
  {
   "cell_type": "code",
   "execution_count": null,
   "metadata": {},
   "outputs": [],
   "source": []
  }
 ],
 "metadata": {
  "kernelspec": {
   "display_name": "Python 3",
   "language": "python",
   "name": "python3"
  },
  "language_info": {
   "codemirror_mode": {
    "name": "ipython",
    "version": 3
   },
   "file_extension": ".py",
   "mimetype": "text/x-python",
   "name": "python",
   "nbconvert_exporter": "python",
   "pygments_lexer": "ipython3",
   "version": "3.8.3"
  }
 },
 "nbformat": 4,
 "nbformat_minor": 4
}
