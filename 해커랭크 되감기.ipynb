{
 "cells": [
  {
   "cell_type": "markdown",
   "metadata": {},
   "source": [
    "# 4장 튜플/ 딕셔너리/ 집합 "
   ]
  },
  {
   "cell_type": "code",
   "execution_count": 13,
   "metadata": {},
   "outputs": [],
   "source": [
    "# 단어순서 \n",
    "from collections import defaultdict\n",
    "\n",
    "word_lst = []\n",
    "\n",
    "\n",
    "dic = defaultdict(int)\n",
    "\n",
    "for _ in range(int(input())):\n",
    "    dic[input()] += 1\n",
    "\n",
    "\n",
    "print(len(dic))\n",
    "\n",
    "for k, v in dic.items():\n",
    "    print(v, end=' ')"
   ]
  },
  {
   "cell_type": "code",
   "execution_count": 93,
   "metadata": {
    "scrolled": true
   },
   "outputs": [
    {
     "name": "stdout",
     "output_type": "stream",
     "text": [
      "aabbbccde\n",
      "b 3\n",
      "a 2\n",
      "c 2\n"
     ]
    }
   ],
   "source": [
    "# 회사 로고\n",
    "from collections import OrderedDict\n",
    "from collections import defaultdict\n",
    "\n",
    "lst = input()\n",
    "\n",
    "word_lst = defaultdict(int)\n",
    "\n",
    "for word in lst:\n",
    "    word_lst[word]+=1\n",
    "\n",
    "od = OrderedDict(sorted(word_lst.items(), key=lambda x:x[1], reverse=True))\n",
    "\n",
    "od_lst = list(od.items())\n",
    "\n",
    "for k, v in od_lst[:3]:\n",
    "    print(k, v)"
   ]
  },
  {
   "cell_type": "code",
   "execution_count": 162,
   "metadata": {},
   "outputs": [
    {
     "name": "stdout",
     "output_type": "stream",
     "text": [
      "b 3\n",
      "a 2\n",
      "c 2\n"
     ]
    }
   ],
   "source": [
    "# 회사 로고 - 2\n",
    "dic = {}\n",
    "\n",
    "for word in s:\n",
    "    var = dic.get(word)\n",
    "    if var:\n",
    "        dic[word]+=1\n",
    "    else:\n",
    "        dic[word]=1\n",
    "\n",
    "result = sorted(dic.items(), key = lambda x: (-x[1], x[0]))\n",
    "\n",
    "for k, v in result[:3]:\n",
    "    print(k, v)"
   ]
  },
  {
   "cell_type": "code",
   "execution_count": 163,
   "metadata": {},
   "outputs": [],
   "source": [
    "# 세트 소개"
   ]
  },
  {
   "cell_type": "code",
   "execution_count": 179,
   "metadata": {},
   "outputs": [],
   "source": [
    "set_lst =set([161, 182, 161, 154, 176, 170, 167, 171, 170, 174])"
   ]
  },
  {
   "cell_type": "code",
   "execution_count": 182,
   "metadata": {},
   "outputs": [
    {
     "name": "stdout",
     "output_type": "stream",
     "text": [
      "169.375\n"
     ]
    }
   ],
   "source": [
    "var = 0\n",
    "for i in set_lst:\n",
    "    var += i\n",
    "    \n",
    "print(var/len(set_lst))"
   ]
  },
  {
   "cell_type": "code",
   "execution_count": 221,
   "metadata": {},
   "outputs": [
    {
     "name": "stdout",
     "output_type": "stream",
     "text": [
      "1 2 3 6 5 4 4 2 5 3 6 1 6 5 3 2 4 1 2 5 1 4 3 6 8 4 3 1 5 6 2\n",
      "8\n"
     ]
    }
   ],
   "source": [
    "# 선장의 방\n",
    "from collections import defaultdict\n",
    "\n",
    "dic = defaultdict(int)\n",
    "\n",
    "data = map(int, input().split(' '))\n",
    "\n",
    "for i in data:\n",
    "    dic[i] += 1\n",
    "\n",
    "for k, v in dic.items():\n",
    "    if v == 1:\n",
    "        print(k)"
   ]
  },
  {
   "cell_type": "code",
   "execution_count": 215,
   "metadata": {},
   "outputs": [],
   "source": [
    "from collections import defaultdict"
   ]
  },
  {
   "cell_type": "code",
   "execution_count": null,
   "metadata": {},
   "outputs": [],
   "source": [
    "\n"
   ]
  },
  {
   "cell_type": "code",
   "execution_count": 216,
   "metadata": {},
   "outputs": [],
   "source": [
    "dic = defaultdict(int)"
   ]
  },
  {
   "cell_type": "code",
   "execution_count": 217,
   "metadata": {},
   "outputs": [],
   "source": [
    "for i in data:\n",
    "    dic[i] += i"
   ]
  },
  {
   "cell_type": "code",
   "execution_count": 218,
   "metadata": {},
   "outputs": [
    {
     "data": {
      "text/plain": [
       "defaultdict(int, {1: 5, 2: 10, 3: 15, 6: 30, 5: 25, 4: 20, 8: 8})"
      ]
     },
     "execution_count": 218,
     "metadata": {},
     "output_type": "execute_result"
    }
   ],
   "source": [
    "dic"
   ]
  },
  {
   "cell_type": "markdown",
   "metadata": {},
   "source": [
    "# 5장  자료구조"
   ]
  },
  {
   "cell_type": "code",
   "execution_count": 9,
   "metadata": {},
   "outputs": [],
   "source": [
    "# collections Counter\n",
    "from collections import Counter\n",
    "\n",
    "_ = input()\n",
    "\n",
    "lst = map(int, input().split(' '))\n",
    "counter = Counter(lst)\n",
    "cash = 0\n",
    "\n",
    "for _ in range(int(input())):\n",
    "    shoes, payment = map(int, input().split(' '))\n",
    "    if counter[shoes] != 0:\n",
    "        counter[shoes] -= 1\n",
    "        cash += payment\n",
    "print(cash)\n",
    "    "
   ]
  },
  {
   "cell_type": "code",
   "execution_count": 86,
   "metadata": {},
   "outputs": [],
   "source": [
    "# orderdict"
   ]
  },
  {
   "cell_type": "code",
   "execution_count": 122,
   "metadata": {},
   "outputs": [
    {
     "name": "stdout",
     "output_type": "stream",
     "text": [
      "9\n",
      "BANANA FRIES 12\n",
      "POTATO CHIPS 30\n",
      "APPLE JUICE 10\n",
      "CANDY 5\n",
      "CANDY 5\n",
      "CANDY 5\n",
      "CANDY 5\n",
      "APPLE JUICE 10\n",
      "POTATO CHIPS 30\n"
     ]
    }
   ],
   "source": [
    "from collections import OrderedDict\n",
    "\n",
    "od = OrderedDict()\n",
    "\n",
    "for _ in range(int(input())):\n",
    "    data = input().split(' ')\n",
    "    \n",
    "    price = int(data[-1])\n",
    "    sentence = ''\n",
    "    \n",
    "    for index in range(len(data)-1):\n",
    "        if index == len(data)-2:\n",
    "            sentence += data[index]\n",
    "        else:\n",
    "            sentence += data[index] + ' '\n",
    "            \n",
    "    dic = od.get(sentence)\n",
    "\n",
    "    if dic is None:\n",
    "        od[sentence] = price\n",
    "    else:\n",
    "        od[sentence] += price\n",
    "    "
   ]
  },
  {
   "cell_type": "code",
   "execution_count": 123,
   "metadata": {},
   "outputs": [
    {
     "data": {
      "text/plain": [
       "OrderedDict([('BANANA FRIES', 12),\n",
       "             ('POTATO CHIPS', 60),\n",
       "             ('APPLE JUICE', 20),\n",
       "             ('CANDY', 20)])"
      ]
     },
     "execution_count": 123,
     "metadata": {},
     "output_type": "execute_result"
    }
   ],
   "source": [
    "od"
   ]
  },
  {
   "cell_type": "code",
   "execution_count": 127,
   "metadata": {},
   "outputs": [],
   "source": [
    "# collections deque\n",
    "from collections import deque\n",
    "\n",
    "deq =deque([])"
   ]
  },
  {
   "cell_type": "code",
   "execution_count": 128,
   "metadata": {},
   "outputs": [
    {
     "data": {
      "text/plain": [
       "deque([])"
      ]
     },
     "execution_count": 128,
     "metadata": {},
     "output_type": "execute_result"
    }
   ],
   "source": [
    "deq"
   ]
  },
  {
   "cell_type": "code",
   "execution_count": 132,
   "metadata": {},
   "outputs": [
    {
     "name": "stdout",
     "output_type": "stream",
     "text": [
      "append 2\n"
     ]
    }
   ],
   "source": [
    "method, val = map(str, input().split(' '))"
   ]
  },
  {
   "cell_type": "code",
   "execution_count": 133,
   "metadata": {},
   "outputs": [
    {
     "ename": "AttributeError",
     "evalue": "'collections.deque' object has no attribute 'method'",
     "output_type": "error",
     "traceback": [
      "\u001b[0;31m---------------------------------------------------------------------------\u001b[0m",
      "\u001b[0;31mAttributeError\u001b[0m                            Traceback (most recent call last)",
      "\u001b[0;32m<ipython-input-133-455f49821a1a>\u001b[0m in \u001b[0;36m<module>\u001b[0;34m\u001b[0m\n\u001b[0;32m----> 1\u001b[0;31m \u001b[0mdeq\u001b[0m\u001b[0;34m.\u001b[0m\u001b[0mmethod\u001b[0m\u001b[0;34m(\u001b[0m\u001b[0;34m)\u001b[0m\u001b[0;34m\u001b[0m\u001b[0;34m\u001b[0m\u001b[0m\n\u001b[0m",
      "\u001b[0;31mAttributeError\u001b[0m: 'collections.deque' object has no attribute 'method'"
     ]
    }
   ],
   "source": []
  },
  {
   "cell_type": "code",
   "execution_count": null,
   "metadata": {},
   "outputs": [],
   "source": []
  }
 ],
 "metadata": {
  "kernelspec": {
   "display_name": "Python 3",
   "language": "python",
   "name": "python3"
  },
  "language_info": {
   "codemirror_mode": {
    "name": "ipython",
    "version": 3
   },
   "file_extension": ".py",
   "mimetype": "text/x-python",
   "name": "python",
   "nbconvert_exporter": "python",
   "pygments_lexer": "ipython3",
   "version": "3.8.3"
  }
 },
 "nbformat": 4,
 "nbformat_minor": 4
}
